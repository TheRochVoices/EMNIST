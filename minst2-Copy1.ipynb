{
 "cells": [
  {
   "cell_type": "code",
   "execution_count": 1,
   "metadata": {},
   "outputs": [
    {
     "name": "stderr",
     "output_type": "stream",
     "text": [
      "/home/therochvoices/anaconda3/lib/python3.6/importlib/_bootstrap.py:219: RuntimeWarning: numpy.dtype size changed, may indicate binary incompatibility. Expected 96, got 88\n",
      "  return f(*args, **kwds)\n"
     ]
    }
   ],
   "source": [
    "import numpy as np\n",
    "import pandas as pd\n",
    "import matplotlib.pyplot as plt"
   ]
  },
  {
   "cell_type": "code",
   "execution_count": 2,
   "metadata": {},
   "outputs": [
    {
     "name": "stderr",
     "output_type": "stream",
     "text": [
      "Using TensorFlow backend.\n"
     ]
    }
   ],
   "source": [
    "from keras.utils import np_utils\n",
    "from keras.layers import Input, Dense, Dropout\n",
    "from keras.models import Model\n",
    "from keras.callbacks import EarlyStopping, ModelCheckpoint"
   ]
  },
  {
   "cell_type": "code",
   "execution_count": 33,
   "metadata": {},
   "outputs": [],
   "source": [
    "train = pd.read_csv('data/emnist-balanced-train.csv', header=None)\n",
    "test  = pd.read_csv(\"data/emnist-balanced-test.csv\", header=None)"
   ]
  },
  {
   "cell_type": "code",
   "execution_count": 4,
   "metadata": {},
   "outputs": [],
   "source": [
    "mapping = pd.read_csv('data/emnist-balanced-mapping.txt', sep = \" \", header = None)"
   ]
  },
  {
   "cell_type": "code",
   "execution_count": 5,
   "metadata": {},
   "outputs": [],
   "source": [
    "converted = mapping[0]\n",
    "actual = mapping[1]"
   ]
  },
  {
   "cell_type": "code",
   "execution_count": 6,
   "metadata": {},
   "outputs": [],
   "source": [
    "mapp = {}"
   ]
  },
  {
   "cell_type": "code",
   "execution_count": 7,
   "metadata": {},
   "outputs": [],
   "source": [
    "for i, j in zip(converted, actual):\n",
    "    mapp[i] = j"
   ]
  },
  {
   "cell_type": "code",
   "execution_count": 8,
   "metadata": {},
   "outputs": [
    {
     "data": {
      "text/plain": [
       "'3'"
      ]
     },
     "execution_count": 8,
     "metadata": {},
     "output_type": "execute_result"
    }
   ],
   "source": [
    "chr(mapp[3])"
   ]
  },
  {
   "cell_type": "code",
   "execution_count": 10,
   "metadata": {},
   "outputs": [],
   "source": [
    "frames = [train, test]\n",
    "\n",
    "train = pd.concat(frames)"
   ]
  },
  {
   "cell_type": "code",
   "execution_count": 34,
   "metadata": {},
   "outputs": [],
   "source": [
    "test_y = test.iloc[:, 0]\n",
    "test_x = test.iloc[:, 1:]"
   ]
  },
  {
   "cell_type": "code",
   "execution_count": 35,
   "metadata": {},
   "outputs": [],
   "source": [
    "num_classes = 47\n",
    "test_y = np_utils.to_categorical(test_y, num_classes)"
   ]
  },
  {
   "cell_type": "code",
   "execution_count": 36,
   "metadata": {},
   "outputs": [],
   "source": [
    "def rotate(image):\n",
    "    image = image.reshape([28, 28])\n",
    "    image = np.fliplr(image)\n",
    "    image = np.rot90(image)\n",
    "    return image.reshape([28 * 28])\n",
    "test_x = np.apply_along_axis(rotate, 1, test_x)/255"
   ]
  },
  {
   "cell_type": "markdown",
   "metadata": {},
   "source": [
    "# Visualizing some shit"
   ]
  },
  {
   "cell_type": "code",
   "execution_count": 14,
   "metadata": {},
   "outputs": [
    {
     "data": {
      "image/png": "[encoded data removed]",
      "text/plain": [
       "<matplotlib.figure.Figure at 0x7fe0251b7240>"
      ]
     },
     "metadata": {},
     "output_type": "display_data"
    }
   ],
   "source": [
    "plt.imshow(train_x[689].reshape(28,28), cmap='gray')\n",
    "plt.show()"
   ]
  },
  {
   "cell_type": "code",
   "execution_count": 16,
   "metadata": {},
   "outputs": [
    {
     "data": {
      "text/plain": [
       "'9'"
      ]
     },
     "execution_count": 16,
     "metadata": {},
     "output_type": "execute_result"
    }
   ],
   "source": [
    "chr(mapp[train_y[689].argmax()])"
   ]
  },
  {
   "cell_type": "code",
   "execution_count": 17,
   "metadata": {},
   "outputs": [
    {
     "name": "stderr",
     "output_type": "stream",
     "text": [
      "/home/therochvoices/anaconda3/lib/python3.6/site-packages/ipykernel_launcher.py:7: UserWarning: Update your `Model` call to the Keras 2 API: `Model(inputs=Tensor(\"in..., outputs=Tensor(\"de...)`\n",
      "  import sys\n"
     ]
    }
   ],
   "source": [
    "inp = Input(shape=(784,))\n",
    "h1 = Dense(1024, activation='relu')(inp)\n",
    "d1 = Dropout(0.2)(h1)\n",
    "h2 = Dense(1024, activation='relu')(d1)\n",
    "d2 = Dropout(0.2)(h2)\n",
    "out = Dense(num_classes, activation='softmax')(d2) \n",
    "model = Model(input=inp, output=out)\n",
    "\n",
    "model.compile(loss='categorical_crossentropy', # using the cross-entropy loss function\n",
    "              optimizer='adam', # using the Adam optimiser\n",
    "              metrics=['accuracy']) # reporting the accuracy\n",
    "checkpointer = ModelCheckpoint('model-emnist-nn.h5', verbose=1, save_best_only=True)\n",
    "earlystopper = EarlyStopping(patience=5, verbose=1)"
   ]
  },
  {
   "cell_type": "code",
   "execution_count": 18,
   "metadata": {},
   "outputs": [
    {
     "name": "stderr",
     "output_type": "stream",
     "text": [
      "/home/therochvoices/anaconda3/lib/python3.6/site-packages/ipykernel_launcher.py:3: UserWarning: The `nb_epoch` argument in `fit` has been renamed `epochs`.\n",
      "  This is separate from the ipykernel package so we can avoid doing imports until\n"
     ]
    },
    {
     "name": "stdout",
     "output_type": "stream",
     "text": [
      "Train on 118440 samples, validate on 13160 samples\n",
      "Epoch 1/50\n",
      "118272/118440 [============================>.] - ETA: 0s - loss: 1.0558 - acc: 0.6903\n",
      "Epoch 00001: val_loss improved from inf to 0.63587, saving model to model-emnist-nn.h5\n",
      "118440/118440 [==============================] - 32s 269us/step - loss: 1.0554 - acc: 0.6904 - val_loss: 0.6359 - val_acc: 0.8027\n",
      "Epoch 2/50\n",
      "118272/118440 [============================>.] - ETA: 0s - loss: 0.5736 - acc: 0.8112\n",
      "Epoch 00002: val_loss improved from 0.63587 to 0.51945, saving model to model-emnist-nn.h5\n",
      "118440/118440 [==============================] - 37s 315us/step - loss: 0.5733 - acc: 0.8113 - val_loss: 0.5194 - val_acc: 0.8273\n",
      "Epoch 3/50\n",
      "118272/118440 [============================>.] - ETA: 0s - loss: 0.4766 - acc: 0.8382\n",
      "Epoch 00003: val_loss improved from 0.51945 to 0.47504, saving model to model-emnist-nn.h5\n",
      "118440/118440 [==============================] - 37s 315us/step - loss: 0.4765 - acc: 0.8381 - val_loss: 0.4750 - val_acc: 0.8420\n",
      "Epoch 4/50\n",
      "118272/118440 [============================>.] - ETA: 0s - loss: 0.4239 - acc: 0.8529\n",
      "Epoch 00004: val_loss improved from 0.47504 to 0.44295, saving model to model-emnist-nn.h5\n",
      "118440/118440 [==============================] - 35s 294us/step - loss: 0.4239 - acc: 0.8529 - val_loss: 0.4429 - val_acc: 0.8498\n",
      "Epoch 5/50\n",
      "118272/118440 [============================>.] - ETA: 0s - loss: 0.3878 - acc: 0.8621\n",
      "Epoch 00005: val_loss did not improve\n",
      "118440/118440 [==============================] - 35s 294us/step - loss: 0.3877 - acc: 0.8622 - val_loss: 0.4437 - val_acc: 0.8460\n",
      "Epoch 6/50\n",
      "118272/118440 [============================>.] - ETA: 0s - loss: 0.3561 - acc: 0.8719\n",
      "Epoch 00006: val_loss improved from 0.44295 to 0.43404, saving model to model-emnist-nn.h5\n",
      "118440/118440 [==============================] - 35s 295us/step - loss: 0.3562 - acc: 0.8720 - val_loss: 0.4340 - val_acc: 0.8527\n",
      "Epoch 7/50\n",
      "118272/118440 [============================>.] - ETA: 0s - loss: 0.3330 - acc: 0.8767\n",
      "Epoch 00007: val_loss improved from 0.43404 to 0.42518, saving model to model-emnist-nn.h5\n",
      "118440/118440 [==============================] - 34s 289us/step - loss: 0.3331 - acc: 0.8767 - val_loss: 0.4252 - val_acc: 0.8563\n",
      "Epoch 8/50\n",
      "118272/118440 [============================>.] - ETA: 0s - loss: 0.3103 - acc: 0.8854\n",
      "Epoch 00008: val_loss improved from 0.42518 to 0.42325, saving model to model-emnist-nn.h5\n",
      "118440/118440 [==============================] - 35s 292us/step - loss: 0.3107 - acc: 0.8853 - val_loss: 0.4232 - val_acc: 0.8592\n",
      "Epoch 9/50\n",
      "118272/118440 [============================>.] - ETA: 0s - loss: 0.2955 - acc: 0.8887\n",
      "Epoch 00009: val_loss improved from 0.42325 to 0.41657, saving model to model-emnist-nn.h5\n",
      "118440/118440 [==============================] - 35s 292us/step - loss: 0.2954 - acc: 0.8887 - val_loss: 0.4166 - val_acc: 0.8582\n",
      "Epoch 10/50\n",
      "118272/118440 [============================>.] - ETA: 0s - loss: 0.2757 - acc: 0.8947\n",
      "Epoch 00010: val_loss improved from 0.41657 to 0.41358, saving model to model-emnist-nn.h5\n",
      "118440/118440 [==============================] - 34s 291us/step - loss: 0.2756 - acc: 0.8948 - val_loss: 0.4136 - val_acc: 0.8641\n",
      "Epoch 11/50\n",
      "118272/118440 [============================>.] - ETA: 0s - loss: 0.2616 - acc: 0.8985\n",
      "Epoch 00011: val_loss did not improve\n",
      "118440/118440 [==============================] - 34s 290us/step - loss: 0.2616 - acc: 0.8985 - val_loss: 0.4238 - val_acc: 0.8626\n",
      "Epoch 12/50\n",
      "118272/118440 [============================>.] - ETA: 0s - loss: 0.2512 - acc: 0.9025\n",
      "Epoch 00012: val_loss did not improve\n",
      "118440/118440 [==============================] - 34s 290us/step - loss: 0.2512 - acc: 0.9025 - val_loss: 0.4170 - val_acc: 0.8641\n",
      "Epoch 13/50\n",
      "118272/118440 [============================>.] - ETA: 0s - loss: 0.2393 - acc: 0.9065\n",
      "Epoch 00013: val_loss did not improve\n",
      "118440/118440 [==============================] - 34s 290us/step - loss: 0.2393 - acc: 0.9065 - val_loss: 0.4203 - val_acc: 0.8661\n",
      "Epoch 14/50\n",
      "118272/118440 [============================>.] - ETA: 0s - loss: 0.2325 - acc: 0.9076\n",
      "Epoch 00014: val_loss did not improve\n",
      "118440/118440 [==============================] - 34s 290us/step - loss: 0.2324 - acc: 0.9077 - val_loss: 0.4233 - val_acc: 0.8630\n",
      "Epoch 15/50\n",
      "118272/118440 [============================>.] - ETA: 0s - loss: 0.2223 - acc: 0.9115\n",
      "Epoch 00015: val_loss did not improve\n",
      "118440/118440 [==============================] - 35s 292us/step - loss: 0.2222 - acc: 0.9115 - val_loss: 0.4458 - val_acc: 0.8639\n",
      "Epoch 00015: early stopping\n"
     ]
    }
   ],
   "source": [
    "history=model.fit(train_x, train_y, # Train the model using the training set...\n",
    "          batch_size=512, nb_epoch=50,\n",
    "          verbose=1, validation_split=0.1,callbacks=[earlystopper,checkpointer]) # ...holding out 10% of the data for validation"
   ]
  },
  {
   "cell_type": "code",
   "execution_count": 19,
   "metadata": {},
   "outputs": [
    {
     "name": "stdout",
     "output_type": "stream",
     "text": [
      "131600/131600 [==============================] - 18s 138us/step\n"
     ]
    },
    {
     "data": {
      "text/plain": [
       "[0.1906421945513563, 0.9275835866261398]"
      ]
     },
     "execution_count": 19,
     "metadata": {},
     "output_type": "execute_result"
    }
   ],
   "source": [
    "model.evaluate(train_x, train_y, verbose=1)"
   ]
  },
  {
   "cell_type": "code",
   "execution_count": 20,
   "metadata": {},
   "outputs": [],
   "source": [
    "model_json = model.to_json()\n",
    "with open(\"model.json\", \"w\") as json_file:\n",
    "    json_file.write(model_json)\n",
    "# serialize weights to HDF5\n",
    "model.save_weights(\"model.h5\")"
   ]
  },
  {
   "cell_type": "code",
   "execution_count": null,
   "metadata": {},
   "outputs": [],
   "source": []
  },
  {
   "cell_type": "code",
   "execution_count": 37,
   "metadata": {},
   "outputs": [],
   "source": [
    "from keras.models import model_from_json"
   ]
  },
  {
   "cell_type": "code",
   "execution_count": 38,
   "metadata": {},
   "outputs": [],
   "source": [
    "json_file = open('model.json', 'r')\n",
    "loaded_model_json = json_file.read()\n",
    "json_file.close()\n",
    "loaded_model = model_from_json(loaded_model_json)\n",
    "# load weights into new model\n",
    "loaded_model.load_weights(\"model.h5\")"
   ]
  },
  {
   "cell_type": "code",
   "execution_count": 39,
   "metadata": {},
   "outputs": [],
   "source": [
    "loaded_model.compile(loss='categorical_crossentropy', # using the cross-entropy loss function\n",
    "              optimizer='adam', # using the Adam optimiser\n",
    "              metrics=['accuracy'])"
   ]
  },
  {
   "cell_type": "code",
   "execution_count": 31,
   "metadata": {},
   "outputs": [],
   "source": [
    "test_y = test.iloc[:, 0]\n",
    "test_x = test.iloc[:, 1:]"
   ]
  },
  {
   "cell_type": "code",
   "execution_count": 40,
   "metadata": {},
   "outputs": [
    {
     "name": "stdout",
     "output_type": "stream",
     "text": [
      "18800/18800 [==============================] - 3s 151us/step\n"
     ]
    },
    {
     "data": {
      "text/plain": [
       "[0.36413293744972414, 0.8838297872340426]"
      ]
     },
     "execution_count": 40,
     "metadata": {},
     "output_type": "execute_result"
    }
   ],
   "source": [
    "loaded_model.evaluate(test_x, test_y, verbose=1)"
   ]
  },
  {
   "cell_type": "code",
   "execution_count": null,
   "metadata": {},
   "outputs": [],
   "source": []
  },
  {
   "cell_type": "code",
   "execution_count": null,
   "metadata": {},
   "outputs": [],
   "source": []
  },
  {
   "cell_type": "code",
   "execution_count": null,
   "metadata": {},
   "outputs": [],
   "source": []
  },
  {
   "cell_type": "code",
   "execution_count": null,
   "metadata": {},
   "outputs": [],
   "source": []
  },
  {
   "cell_type": "code",
   "execution_count": 41,
   "metadata": {},
   "outputs": [],
   "source": [
    "import matplotlib.pyplot as plt\n",
    "import cv2"
   ]
  },
  {
   "cell_type": "code",
   "execution_count": 42,
   "metadata": {},
   "outputs": [],
   "source": [
    "img = cv2.imread('testes.png')"
   ]
  },
  {
   "cell_type": "code",
   "execution_count": 43,
   "metadata": {},
   "outputs": [],
   "source": [
    "R = img[:, :, 0]\n",
    "G = img[:, :, 1]\n",
    "B = img[:, :, 2]\n",
    "\n",
    "img_gray = R * 299. / 1000 + G * 587. / 1000 + B * 114. / 1000\n",
    "\n",
    "newimg = cv2.resize(img_gray,(int(28),int(28)))"
   ]
  },
  {
   "cell_type": "code",
   "execution_count": 44,
   "metadata": {},
   "outputs": [
    {
     "data": {
      "text/plain": [
       "<matplotlib.image.AxesImage at 0x7fdfaa630f60>"
      ]
     },
     "execution_count": 44,
     "metadata": {},
     "output_type": "execute_result"
    },
    {
     "data": {
      "image/png": "[encoded data removed]",
      "text/plain": [
       "<matplotlib.figure.Figure at 0x7fdef400def0>"
      ]
     },
     "metadata": {},
     "output_type": "display_data"
    }
   ],
   "source": [
    "plt.imshow(newimg, cmap='gray')"
   ]
  },
  {
   "cell_type": "code",
   "execution_count": 45,
   "metadata": {},
   "outputs": [],
   "source": [
    "flattened = newimg.reshape(-1)"
   ]
  },
  {
   "cell_type": "code",
   "execution_count": 46,
   "metadata": {},
   "outputs": [
    {
     "data": {
      "text/plain": [
       "'P'"
      ]
     },
     "execution_count": 46,
     "metadata": {},
     "output_type": "execute_result"
    }
   ],
   "source": [
    "dick = loaded_model.predict(flattened.reshape(1,784)).argmax()\n",
    "\n",
    "chr(mapp[dick])"
   ]
  },
  {
   "cell_type": "code",
   "execution_count": 47,
   "metadata": {},
   "outputs": [
    {
     "data": {
      "text/plain": [
       "25"
      ]
     },
     "execution_count": 47,
     "metadata": {},
     "output_type": "execute_result"
    }
   ],
   "source": [
    "dick"
   ]
  },
  {
   "cell_type": "code",
   "execution_count": null,
   "metadata": {},
   "outputs": [],
   "source": []
  }
 ],
 "metadata": {
  "kernelspec": {
   "display_name": "Python 3",
   "language": "python",
   "name": "python3"
  },
  "language_info": {
   "codemirror_mode": {
    "name": "ipython",
    "version": 3
   },
   "file_extension": ".py",
   "mimetype": "text/x-python",
   "name": "python",
   "nbconvert_exporter": "python",
   "pygments_lexer": "ipython3",
   "version": "3.6.4"
  }
 },
 "nbformat": 4,
 "nbformat_minor": 2
}
